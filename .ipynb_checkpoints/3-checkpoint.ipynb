{
 "cells": [
  {
   "cell_type": "code",
   "metadata": {
    "ExecuteTime": {
     "end_time": "2024-05-15T14:52:16.133169700Z",
     "start_time": "2024-05-15T14:52:14.503756700Z"
    }
   },
   "source": [
    "import pandas as pd\n",
    "from lab3 import *\n",
    "from sklearn.preprocessing import StandardScaler\n",
    "\n",
    "data = pd.read_csv('data/Steel_industry_data.csv')\n",
    "pd.set_option('display.max_columns', None)\n",
    "pd.set_option('display.expand_frame_repr', False)\n",
    "np.set_printoptions(linewidth=1000)\n",
    "data.head()"
   ],
   "outputs": [
    {
     "data": {
      "text/plain": "               date  Usage_kWh  Lagging_Current_Reactive.Power_kVarh  Leading_Current_Reactive_Power_kVarh  CO2(tCO2)  Lagging_Current_Power_Factor  Leading_Current_Power_Factor   NSM WeekStatus Day_of_week   Load_Type\n0  01/01/2018 00:15       3.17                                  2.95                                   0.0        0.0                         73.21                         100.0   900    Weekday      Monday  Light_Load\n1  01/01/2018 00:30       4.00                                  4.46                                   0.0        0.0                         66.77                         100.0  1800    Weekday      Monday  Light_Load\n2  01/01/2018 00:45       3.24                                  3.28                                   0.0        0.0                         70.28                         100.0  2700    Weekday      Monday  Light_Load\n3  01/01/2018 01:00       3.31                                  3.56                                   0.0        0.0                         68.09                         100.0  3600    Weekday      Monday  Light_Load\n4  01/01/2018 01:15       3.82                                  4.50                                   0.0        0.0                         64.72                         100.0  4500    Weekday      Monday  Light_Load",
      "text/html": "<div>\n<style scoped>\n    .dataframe tbody tr th:only-of-type {\n        vertical-align: middle;\n    }\n\n    .dataframe tbody tr th {\n        vertical-align: top;\n    }\n\n    .dataframe thead th {\n        text-align: right;\n    }\n</style>\n<table border=\"1\" class=\"dataframe\">\n  <thead>\n    <tr style=\"text-align: right;\">\n      <th></th>\n      <th>date</th>\n      <th>Usage_kWh</th>\n      <th>Lagging_Current_Reactive.Power_kVarh</th>\n      <th>Leading_Current_Reactive_Power_kVarh</th>\n      <th>CO2(tCO2)</th>\n      <th>Lagging_Current_Power_Factor</th>\n      <th>Leading_Current_Power_Factor</th>\n      <th>NSM</th>\n      <th>WeekStatus</th>\n      <th>Day_of_week</th>\n      <th>Load_Type</th>\n    </tr>\n  </thead>\n  <tbody>\n    <tr>\n      <th>0</th>\n      <td>01/01/2018 00:15</td>\n      <td>3.17</td>\n      <td>2.95</td>\n      <td>0.0</td>\n      <td>0.0</td>\n      <td>73.21</td>\n      <td>100.0</td>\n      <td>900</td>\n      <td>Weekday</td>\n      <td>Monday</td>\n      <td>Light_Load</td>\n    </tr>\n    <tr>\n      <th>1</th>\n      <td>01/01/2018 00:30</td>\n      <td>4.00</td>\n      <td>4.46</td>\n      <td>0.0</td>\n      <td>0.0</td>\n      <td>66.77</td>\n      <td>100.0</td>\n      <td>1800</td>\n      <td>Weekday</td>\n      <td>Monday</td>\n      <td>Light_Load</td>\n    </tr>\n    <tr>\n      <th>2</th>\n      <td>01/01/2018 00:45</td>\n      <td>3.24</td>\n      <td>3.28</td>\n      <td>0.0</td>\n      <td>0.0</td>\n      <td>70.28</td>\n      <td>100.0</td>\n      <td>2700</td>\n      <td>Weekday</td>\n      <td>Monday</td>\n      <td>Light_Load</td>\n    </tr>\n    <tr>\n      <th>3</th>\n      <td>01/01/2018 01:00</td>\n      <td>3.31</td>\n      <td>3.56</td>\n      <td>0.0</td>\n      <td>0.0</td>\n      <td>68.09</td>\n      <td>100.0</td>\n      <td>3600</td>\n      <td>Weekday</td>\n      <td>Monday</td>\n      <td>Light_Load</td>\n    </tr>\n    <tr>\n      <th>4</th>\n      <td>01/01/2018 01:15</td>\n      <td>3.82</td>\n      <td>4.50</td>\n      <td>0.0</td>\n      <td>0.0</td>\n      <td>64.72</td>\n      <td>100.0</td>\n      <td>4500</td>\n      <td>Weekday</td>\n      <td>Monday</td>\n      <td>Light_Load</td>\n    </tr>\n  </tbody>\n</table>\n</div>"
     },
     "execution_count": 1,
     "metadata": {},
     "output_type": "execute_result"
    }
   ],
   "execution_count": 1
  },
  {
   "cell_type": "code",
   "metadata": {
    "ExecuteTime": {
     "end_time": "2024-05-15T14:52:16.257092100Z",
     "start_time": "2024-05-15T14:52:16.212186800Z"
    }
   },
   "source": [
    "data['date'] = pd.to_datetime(data['date'], dayfirst=True)\n",
    "data.sort_values(by='date', inplace=True)\n",
    "\n",
    "data['day'] = data['date'].dt.weekday\n",
    "data['month'] = data['date'].dt.month\n",
    "data['time'] = data['date'].dt.time\n",
    "data = data.drop(columns=['date', 'WeekStatus', 'Day_of_week'])\n",
    "data.info()"
   ],
   "outputs": [
    {
     "name": "stdout",
     "output_type": "stream",
     "text": [
      "<class 'pandas.core.frame.DataFrame'>\n",
      "Index: 35040 entries, 95 to 35038\n",
      "Data columns (total 11 columns):\n",
      " #   Column                                Non-Null Count  Dtype  \n",
      "---  ------                                --------------  -----  \n",
      " 0   Usage_kWh                             35040 non-null  float64\n",
      " 1   Lagging_Current_Reactive.Power_kVarh  35040 non-null  float64\n",
      " 2   Leading_Current_Reactive_Power_kVarh  35040 non-null  float64\n",
      " 3   CO2(tCO2)                             35040 non-null  float64\n",
      " 4   Lagging_Current_Power_Factor          35040 non-null  float64\n",
      " 5   Leading_Current_Power_Factor          35040 non-null  float64\n",
      " 6   NSM                                   35040 non-null  int64  \n",
      " 7   Load_Type                             35040 non-null  object \n",
      " 8   day                                   35040 non-null  int32  \n",
      " 9   month                                 35040 non-null  int32  \n",
      " 10  time                                  35040 non-null  object \n",
      "dtypes: float64(6), int32(2), int64(1), object(2)\n",
      "memory usage: 2.9+ MB\n"
     ]
    }
   ],
   "execution_count": 2
  },
  {
   "cell_type": "code",
   "metadata": {
    "ExecuteTime": {
     "end_time": "2024-05-15T14:52:16.337456400Z",
     "start_time": "2024-05-15T14:52:16.253085800Z"
    }
   },
   "source": [
    "data['TimeStamp'] = data['time'].apply(lambda x: x.hour * 3600 + x.minute * 60 + x.second)\n",
    "data = data.drop(columns=['time'])\n",
    "data.info()"
   ],
   "outputs": [
    {
     "name": "stdout",
     "output_type": "stream",
     "text": [
      "<class 'pandas.core.frame.DataFrame'>\n",
      "Index: 35040 entries, 95 to 35038\n",
      "Data columns (total 11 columns):\n",
      " #   Column                                Non-Null Count  Dtype  \n",
      "---  ------                                --------------  -----  \n",
      " 0   Usage_kWh                             35040 non-null  float64\n",
      " 1   Lagging_Current_Reactive.Power_kVarh  35040 non-null  float64\n",
      " 2   Leading_Current_Reactive_Power_kVarh  35040 non-null  float64\n",
      " 3   CO2(tCO2)                             35040 non-null  float64\n",
      " 4   Lagging_Current_Power_Factor          35040 non-null  float64\n",
      " 5   Leading_Current_Power_Factor          35040 non-null  float64\n",
      " 6   NSM                                   35040 non-null  int64  \n",
      " 7   Load_Type                             35040 non-null  object \n",
      " 8   day                                   35040 non-null  int32  \n",
      " 9   month                                 35040 non-null  int32  \n",
      " 10  TimeStamp                             35040 non-null  int64  \n",
      "dtypes: float64(6), int32(2), int64(2), object(1)\n",
      "memory usage: 2.9+ MB\n"
     ]
    }
   ],
   "execution_count": 3
  },
  {
   "cell_type": "code",
   "metadata": {
    "ExecuteTime": {
     "end_time": "2024-05-15T14:52:16.367446900Z",
     "start_time": "2024-05-15T14:52:16.287293600Z"
    }
   },
   "source": [
    "from sklearn.preprocessing import LabelEncoder\n",
    "\n",
    "scaler = StandardScaler()\n",
    "numeric_features = ['Usage_kWh', 'Lagging_Current_Reactive.Power_kVarh', 'Leading_Current_Reactive_Power_kVarh',\n",
    "                    'CO2(tCO2)', 'Lagging_Current_Power_Factor', 'Leading_Current_Power_Factor', 'NSM', 'TimeStamp']\n",
    "data[numeric_features] = scaler.fit_transform(data[numeric_features])\n",
    "\n",
    "label_encoder = LabelEncoder()\n",
    "data['Load_Type'] = label_encoder.fit_transform(data['Load_Type'])\n",
    "\n",
    "data.info()"
   ],
   "outputs": [
    {
     "name": "stdout",
     "output_type": "stream",
     "text": [
      "<class 'pandas.core.frame.DataFrame'>\n",
      "Index: 35040 entries, 95 to 35038\n",
      "Data columns (total 11 columns):\n",
      " #   Column                                Non-Null Count  Dtype  \n",
      "---  ------                                --------------  -----  \n",
      " 0   Usage_kWh                             35040 non-null  float64\n",
      " 1   Lagging_Current_Reactive.Power_kVarh  35040 non-null  float64\n",
      " 2   Leading_Current_Reactive_Power_kVarh  35040 non-null  float64\n",
      " 3   CO2(tCO2)                             35040 non-null  float64\n",
      " 4   Lagging_Current_Power_Factor          35040 non-null  float64\n",
      " 5   Leading_Current_Power_Factor          35040 non-null  float64\n",
      " 6   NSM                                   35040 non-null  float64\n",
      " 7   Load_Type                             35040 non-null  int32  \n",
      " 8   day                                   35040 non-null  int32  \n",
      " 9   month                                 35040 non-null  int32  \n",
      " 10  TimeStamp                             35040 non-null  float64\n",
      "dtypes: float64(8), int32(3)\n",
      "memory usage: 2.8 MB\n"
     ]
    }
   ],
   "execution_count": 4
  },
  {
   "cell_type": "code",
   "metadata": {
    "collapsed": false,
    "ExecuteTime": {
     "end_time": "2024-05-15T14:52:16.423913200Z",
     "start_time": "2024-05-15T14:52:16.316434700Z"
    }
   },
   "source": [
    "x = data.drop(columns='Load_Type').values\n",
    "y = pd.get_dummies(data['Load_Type']).values\n",
    "\n",
    "seq_len = 7\n",
    "X_seq = []\n",
    "Y_seq = []\n",
    "\n",
    "for i in range(len(x) - seq_len):\n",
    "    X_seq.append(x[i:i + seq_len])\n",
    "    Y_seq.append(y[i + seq_len])\n",
    "\n",
    "X_seq = np.array(X_seq)\n",
    "Y_seq = np.array(Y_seq)\n",
    "\n",
    "sequence_length = 6\n",
    "\n",
    "x_train, x_test, y_train, y_test = train_test_split(X_seq, Y_seq, test_size=0.05, random_state=1)"
   ],
   "outputs": [],
   "execution_count": 5
  },
  {
   "cell_type": "code",
   "outputs": [],
   "source": [
    "# learning_rate = 0.05\n",
    "# batch_size = 32\n",
    "# epochs = 25\n",
    "# \n",
    "# ws = 0.2\n",
    "# layers = [\n",
    "#     # todo pass shape\n",
    "#     RNN(input_size=None, hidden_size=24, output_size=24, return_sequence=True, ws=ws),\n",
    "#     ReLU(),\n",
    "#     RNN(input_size=24, hidden_size=12, output_size=10, return_sequence=False, ws=ws),\n",
    "#     ReLU(),\n",
    "#     DenseLayer(10, 3, ws=ws),\n",
    "#     Softmax()\n",
    "# ]\n",
    "# \n",
    "# model = NeuralNetwork(layers, CategoricalCrossEntropy())\n",
    "# model.train(x_train, y_train, epochs=epochs, batch_size=batch_size, learning_rate=learning_rate)\n",
    "# \n",
    "# y_pred = model.predict(x_test)\n",
    "# f1_score = model.calculate_f1_score(y_test, y_pred)\n",
    "# print(f\"F1 Score after test: {f1_score}\")\n",
    "# print(model.calculate_precision_recall(y_test, y_pred))"
   ],
   "metadata": {
    "ExecuteTime": {
     "end_time": "2024-05-15T14:52:16.424889300Z",
     "start_time": "2024-05-15T14:52:16.406658700Z"
    }
   },
   "execution_count": 6
  },
  {
   "metadata": {
    "ExecuteTime": {
     "end_time": "2024-05-15T14:52:21.772320500Z",
     "start_time": "2024-05-15T14:52:21.721505900Z"
    }
   },
   "cell_type": "code",
   "source": [
    "learning_rate = 0.3\n",
    "batch_size = 32\n",
    "epochs = 40\n",
    "\n",
    "ws = 0.3\n",
    "# todo pass shape\n",
    "layers = [\n",
    "    LSTM(input_size=None, hidden_size=64, output_size=44, return_sequence=True, ws=ws),\n",
    "    ReLU(),\n",
    "    LSTM(input_size=44, hidden_size=32, output_size=16, return_sequence=False, ws=ws),\n",
    "    ReLU(),\n",
    "    DenseLayer(16, 3, ws=ws),\n",
    "    Softmax()\n",
    "]\n",
    "\n",
    "model = NeuralNetwork(layers, CategoricalCrossEntropy())\n",
    "\n",
    "model.train(x_train, y_train, epochs, batch_size, learning_rate)\n",
    "\n",
    "y_pred = model.predict(x_test)\n",
    "f1_score = model.calculate_f1_score(y_test, y_pred)\n",
    "print(f\"F1 Score after test: {f1_score}\")\n",
    "print(model.calculate_precision_recall(y_test, y_pred))"
   ],
   "outputs": [
    {
     "ename": "TypeError",
     "evalue": "'float' object cannot be interpreted as an integer",
     "output_type": "error",
     "traceback": [
      "\u001B[1;31m---------------------------------------------------------------------------\u001B[0m",
      "\u001B[1;31mTypeError\u001B[0m                                 Traceback (most recent call last)",
      "Cell \u001B[1;32mIn[11], line 18\u001B[0m\n\u001B[0;32m      7\u001B[0m layers \u001B[38;5;241m=\u001B[39m [\n\u001B[0;32m      8\u001B[0m     LSTM(input_size\u001B[38;5;241m=\u001B[39m\u001B[38;5;28;01mNone\u001B[39;00m, hidden_size\u001B[38;5;241m=\u001B[39m\u001B[38;5;241m64\u001B[39m, output_size\u001B[38;5;241m=\u001B[39m\u001B[38;5;241m44\u001B[39m, return_sequence\u001B[38;5;241m=\u001B[39m\u001B[38;5;28;01mTrue\u001B[39;00m, ws\u001B[38;5;241m=\u001B[39mws),\n\u001B[0;32m      9\u001B[0m     ReLU(),\n\u001B[1;32m   (...)\u001B[0m\n\u001B[0;32m     13\u001B[0m     Softmax()\n\u001B[0;32m     14\u001B[0m ]\n\u001B[0;32m     16\u001B[0m model \u001B[38;5;241m=\u001B[39m NeuralNetwork(layers, CategoricalCrossEntropy())\n\u001B[1;32m---> 18\u001B[0m \u001B[43mmodel\u001B[49m\u001B[38;5;241;43m.\u001B[39;49m\u001B[43mtrain\u001B[49m\u001B[43m(\u001B[49m\u001B[43mx_train\u001B[49m\u001B[43m,\u001B[49m\u001B[43m \u001B[49m\u001B[43my_train\u001B[49m\u001B[43m,\u001B[49m\u001B[43m \u001B[49m\u001B[43mepochs\u001B[49m\u001B[43m,\u001B[49m\u001B[43m \u001B[49m\u001B[43mbatch_size\u001B[49m\u001B[43m,\u001B[49m\u001B[43m \u001B[49m\u001B[43mlearning_rate\u001B[49m\u001B[43m)\u001B[49m\n\u001B[0;32m     20\u001B[0m y_pred \u001B[38;5;241m=\u001B[39m model\u001B[38;5;241m.\u001B[39mpredict(x_test)\n\u001B[0;32m     21\u001B[0m f1_score \u001B[38;5;241m=\u001B[39m model\u001B[38;5;241m.\u001B[39mcalculate_f1_score(y_test, y_pred)\n",
      "File \u001B[1;32m~\\PycharmProjects\\NeuralNetworks\\lab3.py:382\u001B[0m, in \u001B[0;36mNeuralNetwork.train\u001B[1;34m(self, x_train_data, y_train_data, epochs, learning_rate, batch_size)\u001B[0m\n\u001B[0;32m    379\u001B[0m y_train_data_shuffled \u001B[38;5;241m=\u001B[39m y_train_data[indices]\n\u001B[0;32m    381\u001B[0m mean_loss_train \u001B[38;5;241m=\u001B[39m \u001B[38;5;241m0.0\u001B[39m\n\u001B[1;32m--> 382\u001B[0m \u001B[38;5;28;01mfor\u001B[39;00m batch_start \u001B[38;5;129;01min\u001B[39;00m \u001B[38;5;28;43mrange\u001B[39;49m\u001B[43m(\u001B[49m\u001B[38;5;241;43m0\u001B[39;49m\u001B[43m,\u001B[49m\u001B[43m \u001B[49m\u001B[43mdata_size\u001B[49m\u001B[43m,\u001B[49m\u001B[43m \u001B[49m\u001B[43mbatch_size\u001B[49m\u001B[43m)\u001B[49m:\n\u001B[0;32m    383\u001B[0m     batch_end \u001B[38;5;241m=\u001B[39m \u001B[38;5;28mmin\u001B[39m(batch_start \u001B[38;5;241m+\u001B[39m batch_size, data_size)\n\u001B[0;32m    384\u001B[0m     x_batch \u001B[38;5;241m=\u001B[39m x_train_data_shuffled[batch_start:batch_end]\n",
      "\u001B[1;31mTypeError\u001B[0m: 'float' object cannot be interpreted as an integer"
     ]
    }
   ],
   "execution_count": 11
  },
  {
   "metadata": {
    "ExecuteTime": {
     "start_time": "2024-05-15T14:52:17.116642800Z"
    }
   },
   "cell_type": "code",
   "source": [
    "learning_rate = 0.03\n",
    "batch_size = 32\n",
    "epochs = 35\n",
    "\n",
    "ws = 0.3\n",
    "# todo pass shape\n",
    "layers = [\n",
    "    GRU(input_size=None, hidden_size=32, output_size=32, return_sequence=True, ws=ws),\n",
    "    ReLU(),\n",
    "    GRU(input_size=32, hidden_size=16, output_size=12, return_sequence=False, ws=ws),\n",
    "    ReLU(),\n",
    "    DenseLayer(12, 3, ws=ws),\n",
    "    Softmax()\n",
    "]\n",
    "\n",
    "model = NeuralNetwork(layers, CategoricalCrossEntropy())\n",
    "NeuralNetwork.train(x_train, y_train, epochs, batch_size, learning_rate)\n",
    "\n",
    "y_pred = NeuralNetwork.predict(x_test)\n",
    "f1_score = model.calculate_f1_score(y_test, y_pred)\n",
    "print(f\"F1 Score after test: {f1_score}\")\n",
    "print(model.calculate_precision_recall(y_test, y_pred))"
   ],
   "outputs": [],
   "execution_count": null
  }
 ],
 "metadata": {
  "kernelspec": {
   "display_name": "myenv",
   "language": "python",
   "name": "python3"
  },
  "language_info": {
   "codemirror_mode": {
    "name": "ipython",
    "version": 3
   },
   "file_extension": ".py",
   "mimetype": "text/x-python",
   "name": "python",
   "nbconvert_exporter": "python",
   "pygments_lexer": "ipython3",
   "version": "3.11.6"
  }
 },
 "nbformat": 4,
 "nbformat_minor": 2
}
