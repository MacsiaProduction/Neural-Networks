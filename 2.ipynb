{
 "cells": [
  {
   "cell_type": "code",
   "execution_count": 1,
   "id": "initial_id",
   "metadata": {
    "collapsed": true,
    "ExecuteTime": {
     "end_time": "2024-04-20T06:11:34.947633200Z",
     "start_time": "2024-04-20T06:11:33.168028900Z"
    }
   },
   "outputs": [],
   "source": [
    "from perceptron import MultilayerPerceptron\n",
    "import pandas as pd\n",
    "from sklearn.preprocessing import StandardScaler\n",
    "\n",
    "def load_and_preprocess_data(filepath):\n",
    "    dt = pd.read_csv(filepath, delimiter=',')\n",
    "\n",
    "    numeric_cols = ['Processor_Speed', 'RAM_Size', 'Storage_Capacity', 'Screen_Size', 'Weight']\n",
    "    categorical_cols = ['Brand']\n",
    "\n",
    "    scaler = StandardScaler()\n",
    "    dt[numeric_cols] = scaler.fit_transform(dt[numeric_cols])\n",
    "\n",
    "    dt = pd.get_dummies(dt, columns=categorical_cols)\n",
    "\n",
    "    return dt"
   ]
  },
  {
   "cell_type": "code",
   "outputs": [],
   "source": [
    "from sklearn.model_selection import train_test_split\n",
    "\n",
    "data = load_and_preprocess_data('Laptop_price.csv')\n",
    "\n",
    "y = data['Price'].to_numpy()\n",
    "X = data.drop('Price', axis=1).to_numpy()\n",
    "\n",
    "X_train, X_test, y_train, y_test = train_test_split(X, y, test_size=0.2)\n",
    "\n",
    "X_train = X_train.reshape(X_train.shape[0], X_train.shape[1], 1)\n",
    "X_test = X_test.reshape(X_test.shape[0], X_test.shape[1], 1)"
   ],
   "metadata": {
    "collapsed": false,
    "ExecuteTime": {
     "end_time": "2024-04-20T06:11:35.039907800Z",
     "start_time": "2024-04-20T06:11:34.953010400Z"
    }
   },
   "id": "dcac16893ba39278",
   "execution_count": 2
  },
  {
   "cell_type": "code",
   "outputs": [
    {
     "name": "stdout",
     "output_type": "stream",
     "text": [
      "1/20, error=15213598.594903475\n",
      "2/20, error=42374.39983763745\n",
      "3/20, error=42183.878492789765\n",
      "4/20, error=42182.69631374121\n",
      "5/20, error=42182.712606919325\n",
      "6/20, error=42182.71564345115\n",
      "7/20, error=42182.71587382378\n",
      "8/20, error=42182.715888177045\n",
      "9/20, error=42182.715888998\n",
      "10/20, error=42182.715889042796\n",
      "11/20, error=42182.71588904528\n",
      "12/20, error=42182.715889045394\n",
      "13/20, error=42182.71588904537\n",
      "14/20, error=42182.71588904537\n",
      "15/20, error=42182.71588904537\n",
      "16/20, error=42182.715889045365\n",
      "17/20, error=42182.71588904536\n",
      "18/20, error=42182.71588904537\n",
      "19/20, error=42182.715889045365\n",
      "20/20, error=42182.71588904537\n",
      "Root Mean Squared Error on Test Set: 199.21629958370218\n"
     ]
    }
   ],
   "source": [
    "from better_perceptron import *\n",
    "from sklearn.metrics import root_mean_squared_error\n",
    "\n",
    "input_size = X_train.shape[1]   \n",
    "output_size = 1\n",
    "\n",
    "network = [\n",
    "    Dense(input_size, output_size),\n",
    "    ReLu()\n",
    "]\n",
    "\n",
    "train(network, mse, mse_prime, X_train, y_train, epochs=20, learning_rate=10e-3)\n",
    "\n",
    "predictions = predict(network, X_test)\n",
    "rmse = root_mean_squared_error(y_test, np.squeeze(predictions))\n",
    "print(f\"Root Mean Squared Error on Test Set: {rmse}\")"
   ],
   "metadata": {
    "collapsed": false,
    "ExecuteTime": {
     "end_time": "2024-04-20T06:12:52.277574100Z",
     "start_time": "2024-04-20T06:12:51.048158300Z"
    }
   },
   "id": "b9e8114d48efb7ab",
   "execution_count": 9
  }
 ],
 "metadata": {
  "kernelspec": {
   "display_name": "Python 3",
   "language": "python",
   "name": "python3"
  },
  "language_info": {
   "codemirror_mode": {
    "name": "ipython",
    "version": 2
   },
   "file_extension": ".py",
   "mimetype": "text/x-python",
   "name": "python",
   "nbconvert_exporter": "python",
   "pygments_lexer": "ipython2",
   "version": "2.7.6"
  }
 },
 "nbformat": 4,
 "nbformat_minor": 5
}
