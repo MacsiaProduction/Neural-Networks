{
 "cells": [
  {
   "cell_type": "code",
   "execution_count": 1,
   "id": "initial_id",
   "metadata": {
    "collapsed": true,
    "ExecuteTime": {
     "end_time": "2024-04-11T11:46:11.054864800Z",
     "start_time": "2024-04-11T11:46:09.967054400Z"
    }
   },
   "outputs": [],
   "source": [
    "from perceptron import MultilayerPerceptron\n",
    "import pandas as pd\n",
    "from sklearn.preprocessing import StandardScaler\n",
    "\n",
    "def load_and_preprocess_data(filepath):\n",
    "    dt = pd.read_csv(filepath, delimiter=',')\n",
    "\n",
    "    numeric_cols = ['Processor_Speed', 'RAM_Size', 'Storage_Capacity', 'Screen_Size', 'Weight']\n",
    "    categorical_cols = ['Brand']\n",
    "\n",
    "    scaler = StandardScaler()\n",
    "    dt[numeric_cols] = scaler.fit_transform(dt[numeric_cols])\n",
    "\n",
    "    dt = pd.get_dummies(dt, columns=categorical_cols)\n",
    "\n",
    "    return dt"
   ]
  },
  {
   "cell_type": "code",
   "outputs": [],
   "source": [
    "from sklearn.model_selection import train_test_split\n",
    "\n",
    "data = load_and_preprocess_data('Laptop_price.csv')\n",
    "\n",
    "y = data['Price'].values\n",
    "X = data.drop('Price', axis=1).values\n",
    "\n",
    "X_train, X_test, y_train, y_test = train_test_split(X, y, test_size=0.2, shuffle=True)"
   ],
   "metadata": {
    "collapsed": false,
    "ExecuteTime": {
     "end_time": "2024-04-11T11:46:11.118482100Z",
     "start_time": "2024-04-11T11:46:11.058857300Z"
    }
   },
   "id": "dcac16893ba39278",
   "execution_count": 2
  },
  {
   "cell_type": "code",
   "outputs": [
    {
     "name": "stdout",
     "output_type": "stream",
     "text": [
      "Root Mean Squared Error on Test Set: 216.54999382659682\n"
     ]
    }
   ],
   "source": [
    "from sklearn.metrics import root_mean_squared_error\n",
    "\n",
    "input_size = X_train.shape[1]   \n",
    "hidden_size = 5\n",
    "output_size = 1\n",
    "\n",
    "mlp = MultilayerPerceptron(input_size, hidden_size, output_size)\n",
    "mlp.train(X_train, y_train.reshape(-1, 1), learning_rate=0.000002, epochs=500)\n",
    "\n",
    "predictions = mlp.predict(X_test)\n",
    "rmse = root_mean_squared_error(y_test, predictions)\n",
    "print(f\"Root Mean Squared Error on Test Set: {rmse}\")"
   ],
   "metadata": {
    "collapsed": false,
    "ExecuteTime": {
     "end_time": "2024-04-11T11:47:12.572776900Z",
     "start_time": "2024-04-11T11:46:44.458550500Z"
    }
   },
   "id": "b9e8114d48efb7ab",
   "execution_count": 4
  }
 ],
 "metadata": {
  "kernelspec": {
   "display_name": "Python 3",
   "language": "python",
   "name": "python3"
  },
  "language_info": {
   "codemirror_mode": {
    "name": "ipython",
    "version": 2
   },
   "file_extension": ".py",
   "mimetype": "text/x-python",
   "name": "python",
   "nbconvert_exporter": "python",
   "pygments_lexer": "ipython2",
   "version": "2.7.6"
  }
 },
 "nbformat": 4,
 "nbformat_minor": 5
}
