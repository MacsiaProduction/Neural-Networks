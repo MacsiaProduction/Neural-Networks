{
 "cells": [
  {
   "cell_type": "code",
   "execution_count": 1,
   "id": "initial_id",
   "metadata": {
    "collapsed": true,
    "ExecuteTime": {
     "end_time": "2024-05-12T10:05:44.909958300Z",
     "start_time": "2024-05-12T10:05:43.339788500Z"
    }
   },
   "outputs": [],
   "source": [
    "import pandas as pd\n",
    "from sklearn.preprocessing import StandardScaler\n",
    "\n",
    "def load_and_preprocess_data(filepath):\n",
    "    dt = pd.read_csv(filepath, delimiter=',')\n",
    "\n",
    "    numeric_cols = ['Processor_Speed', 'RAM_Size', 'Storage_Capacity', 'Screen_Size', 'Weight']\n",
    "    categorical_cols = ['Brand']\n",
    "\n",
    "    scaler = StandardScaler()\n",
    "    dt[numeric_cols] = scaler.fit_transform(dt[numeric_cols])\n",
    "\n",
    "    dt = pd.get_dummies(dt, columns=categorical_cols)\n",
    "\n",
    "    return dt"
   ]
  },
  {
   "cell_type": "code",
   "outputs": [],
   "source": [
    "from sklearn.model_selection import train_test_split\n",
    "\n",
    "data = load_and_preprocess_data('data/Laptop_price.csv')\n",
    "\n",
    "y = data['Price'].to_numpy()\n",
    "X = data.drop('Price', axis=1).to_numpy()\n",
    "\n",
    "X_train, X_test, y_train, y_test = train_test_split(X, y, test_size=0.2)\n",
    "\n",
    "X_train = X_train.reshape(X_train.shape[0], X_train.shape[1], 1)\n",
    "X_test = X_test.reshape(X_test.shape[0], X_test.shape[1], 1)"
   ],
   "metadata": {
    "collapsed": false,
    "ExecuteTime": {
     "end_time": "2024-05-12T10:06:00.171406100Z",
     "start_time": "2024-05-12T10:06:00.144534600Z"
    }
   },
   "id": "dcac16893ba39278",
   "execution_count": 3
  },
  {
   "cell_type": "code",
   "outputs": [
    {
     "name": "stdout",
     "output_type": "stream",
     "text": [
      "1/20, error=14542014.302290196\n",
      "2/20, error=42312.786391334\n",
      "3/20, error=42113.53617315263\n",
      "4/20, error=42117.09969288141\n",
      "5/20, error=42117.30653312959\n",
      "6/20, error=42117.316421500334\n",
      "7/20, error=42117.316874593474\n",
      "8/20, error=42117.31689487582\n",
      "9/20, error=42117.31689577002\n",
      "10/20, error=42117.31689580902\n",
      "11/20, error=42117.31689581071\n",
      "12/20, error=42117.31689581082\n",
      "13/20, error=42117.3168958108\n",
      "14/20, error=42117.31689581083\n",
      "15/20, error=42117.316895810785\n",
      "16/20, error=42117.3168958108\n",
      "17/20, error=42117.31689581083\n",
      "18/20, error=42117.31689581075\n",
      "19/20, error=42117.316895810785\n",
      "20/20, error=42117.3168958108\n",
      "Root Mean Squared Error on Test Set: 203.62406984742717\n"
     ]
    }
   ],
   "source": [
    "from lab2 import *\n",
    "from sklearn.metrics import root_mean_squared_error\n",
    "\n",
    "input_size = X_train.shape[1]   \n",
    "output_size = 1\n",
    "\n",
    "network = [\n",
    "    Dense(input_size, output_size),\n",
    "    ReLu()\n",
    "]\n",
    "\n",
    "train(network, mse, mse_prime, X_train, y_train, epochs=20, learning_rate=10e-3)\n",
    "\n",
    "predictions = predict(network, X_test)\n",
    "rmse = root_mean_squared_error(y_test, np.squeeze(predictions))\n",
    "print(f\"Root Mean Squared Error on Test Set: {rmse}\")"
   ],
   "metadata": {
    "collapsed": false,
    "ExecuteTime": {
     "end_time": "2024-05-12T10:06:02.555924Z",
     "start_time": "2024-05-12T10:06:01.694399100Z"
    }
   },
   "id": "b9e8114d48efb7ab",
   "execution_count": 4
  }
 ],
 "metadata": {
  "kernelspec": {
   "display_name": "Python 3",
   "language": "python",
   "name": "python3"
  },
  "language_info": {
   "codemirror_mode": {
    "name": "ipython",
    "version": 2
   },
   "file_extension": ".py",
   "mimetype": "text/x-python",
   "name": "python",
   "nbconvert_exporter": "python",
   "pygments_lexer": "ipython2",
   "version": "2.7.6"
  }
 },
 "nbformat": 4,
 "nbformat_minor": 5
}
