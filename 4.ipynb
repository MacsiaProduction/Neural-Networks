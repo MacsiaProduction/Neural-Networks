{
 "cells": [
  {
   "cell_type": "code",
   "outputs": [
    {
     "name": "stdout",
     "output_type": "stream",
     "text": [
      "60000 10000\n"
     ]
    }
   ],
   "source": [
    "from lab2 import *\n",
    "from lab4 import *\n",
    "from keras.datasets import mnist\n",
    "from keras.utils import to_categorical\n",
    "\n",
    "def preprocess_data1(x, y, limit):\n",
    "    x = x.reshape(x.shape[0], 1,  28, 28)\n",
    "    x = x.astype(\"float32\") / 255\n",
    "    y = to_categorical(y)\n",
    "    y = y.reshape(y.shape[0], 10, 1)\n",
    "    return x[:limit], y[:limit]\n",
    "\n",
    "\n",
    "# load MNIST from server\n",
    "(x_train, y_train), (x_test, y_test) = mnist.load_data()\n",
    "x_train, y_train = preprocess_data1(x_train, y_train, y_train.shape[0])\n",
    "x_test, y_test = preprocess_data1(x_test, y_test, y_test.shape[0])\n",
    "print(y_train.shape[0], y_test.shape[0])"
   ],
   "metadata": {
    "collapsed": false,
    "ExecuteTime": {
     "end_time": "2024-04-21T07:15:48.047104100Z",
     "start_time": "2024-04-21T07:15:47.479161200Z"
    }
   },
   "id": "295da5cb0d287340",
   "execution_count": 13
  },
  {
   "cell_type": "code",
   "execution_count": 14,
   "id": "initial_id",
   "metadata": {
    "collapsed": true,
    "ExecuteTime": {
     "end_time": "2024-04-21T10:04:03.999621400Z",
     "start_time": "2024-04-21T07:15:48.046101300Z"
    }
   },
   "outputs": [
    {
     "name": "stdout",
     "output_type": "stream",
     "text": [
      "1/10, error=0.11387927752011918\n",
      "2/10, error=0.04979496373216324\n",
      "3/10, error=0.03672594955108238\n",
      "4/10, error=0.031044835251661212\n",
      "5/10, error=0.027890186762894696\n",
      "6/10, error=0.025544373084790628\n",
      "7/10, error=0.023622345898406123\n",
      "8/10, error=0.022126234724873437\n",
      "9/10, error=0.021080057669817298\n",
      "10/10, error=0.02021940416057464\n",
      "error = 0.020113419474956998\n"
     ]
    }
   ],
   "source": [
    "epochs = 10\n",
    "learning_rate = 0.1\n",
    "dense = 32\n",
    "kernel1 = 5\n",
    "kernels1 = 5\n",
    "kernel2 = 5\n",
    "kernels2 = 3\n",
    "\n",
    "b = (28-kernel1+1)//2\n",
    "c = b-kernel2+1\n",
    "network = [\n",
    "    Convolutional((1, 28, 28), kernel1, kernels1),\n",
    "    Sigmoid(),\n",
    "    MaxPooling(2),\n",
    "    Convolutional((kernels1, b, b), kernel2, kernels2),\n",
    "    Sigmoid(),\n",
    "    Reshape((kernels2, c, c), (kernels2 * c * c, 1)),\n",
    "    Dense(kernels2 * c * c, dense),\n",
    "    Sigmoid(),\n",
    "    Dense(dense, 10),\n",
    "    Sigmoid()\n",
    "]\n",
    "\n",
    "# train\n",
    "train(\n",
    "    network,\n",
    "    binary_cross_entropy,\n",
    "    binary_cross_entropy_prime,\n",
    "    x_train,\n",
    "    y_train,\n",
    "    epochs=epochs,\n",
    "    learning_rate=learning_rate\n",
    ")\n",
    "\n",
    "error, predictions = test(network, x_test, y_test, binary_cross_entropy)\n",
    "\n",
    "print(f\"error = {error}\")"
   ]
  },
  {
   "cell_type": "code",
   "execution_count": 28,
   "id": "b41c8e22",
   "metadata": {
    "ExecuteTime": {
     "end_time": "2024-04-21T10:18:36.213970900Z",
     "start_time": "2024-04-21T10:18:36.182716100Z"
    }
   },
   "outputs": [
    {
     "name": "stdout",
     "output_type": "stream",
     "text": [
      "Accuracy: 0.9702\n",
      "Precision: 0.9702880702707118\n",
      "Recall: 0.9702\n",
      "F1 Score: 0.9701844632096891\n"
     ]
    }
   ],
   "source": [
    "from sklearn.metrics import accuracy_score, precision_score, recall_score, f1_score\n",
    "\n",
    "def predictions_to_labels(predictions):\n",
    "    return predictions.argmax(axis=1)\n",
    "\n",
    "# Convert predictions and true labels to label indices\n",
    "y_pred = predictions_to_labels(predictions.squeeze())\n",
    "y_true = y_test.argmax(axis=1)\n",
    "\n",
    "# Calculate metrics\n",
    "accuracy = accuracy_score(y_true, y_pred)\n",
    "precision = precision_score(y_true, y_pred, average='weighted', zero_division=1) # weighted\n",
    "recall = recall_score(y_true, y_pred, average='weighted')\n",
    "f1 = f1_score(y_true, y_pred, average='weighted')\n",
    "\n",
    "# Print the statistics\n",
    "print(f\"Accuracy: {accuracy}\")\n",
    "print(f\"Precision: {precision}\")\n",
    "print(f\"Recall: {recall}\")\n",
    "print(f\"F1 Score: {f1}\")"
   ]
  }
 ],
 "metadata": {
  "kernelspec": {
   "display_name": "Python 3",
   "language": "python",
   "name": "python3"
  },
  "language_info": {
   "codemirror_mode": {
    "name": "ipython",
    "version": 2
   },
   "file_extension": ".py",
   "mimetype": "text/x-python",
   "name": "python",
   "nbconvert_exporter": "python",
   "pygments_lexer": "ipython2",
   "version": "3.12.0"
  }
 },
 "nbformat": 4,
 "nbformat_minor": 5
}
