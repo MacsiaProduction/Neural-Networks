{
 "metadata": {
  "kernelspec": {
   "language": "python",
   "display_name": "Python 3",
   "name": "python3"
  },
  "language_info": {
   "name": "python",
   "version": "3.10.13",
   "mimetype": "text/x-python",
   "codemirror_mode": {
    "name": "ipython",
    "version": 3
   },
   "pygments_lexer": "ipython3",
   "nbconvert_exporter": "python",
   "file_extension": ".py"
  },
  "kaggle": {
   "accelerator": "gpu",
   "dataSources": [
    {
     "sourceId": 4059269,
     "sourceType": "datasetVersion",
     "datasetId": 2403562
    }
   ],
   "dockerImageVersionId": 30646,
   "isInternetEnabled": false,
   "language": "python",
   "sourceType": "notebook",
   "isGpuEnabled": true
  }
 },
 "nbformat_minor": 4,
 "nbformat": 4,
 "cells": [
  {
   "cell_type": "markdown",
   "source": [
    "# Imports"
   ],
   "metadata": {
    "collapsed": false
   }
  },
  {
   "cell_type": "code",
   "source": [
    "import os\n",
    "import numpy as np\n",
    "import pandas as pd\n",
    "import matplotlib.pyplot as plt\n",
    "#---------------------------------------\n",
    "from sklearn.model_selection import train_test_split\n",
    "from sklearn.metrics import classification_report\n",
    "from sklearn.metrics import accuracy_score\n",
    "#---------------------------------------\n",
    "import tensorflow as tf\n",
    "\n",
    "from tf_keras.src.preprocessing.image import ImageDataGenerator\n",
    "from keras.callbacks import EarlyStopping\n",
    "from keras.models import Sequential\n",
    "from tensorflow.keras.layers import Dense, Dropout, Flatten\n",
    "from tensorflow.keras.optimizers import Adamax\n",
    "#---------------------------------------\n",
    "import warnings\n",
    "\n",
    "\n",
    "warnings.filterwarnings(\"ignore\")"
   ],
   "metadata": {
    "_uuid": "8f2839f25d086af736a60e9eeb907d3b93b6e0e5",
    "_cell_guid": "b1076dfc-b9ad-4769-8c92-a6c4dae69d19",
    "execution": {
     "iopub.status.busy": "2024-02-23T17:45:49.928561Z",
     "iopub.execute_input": "2024-02-23T17:45:49.928929Z",
     "iopub.status.idle": "2024-02-23T17:46:04.167099Z",
     "shell.execute_reply.started": "2024-02-23T17:45:49.928899Z",
     "shell.execute_reply": "2024-02-23T17:46:04.16626Z"
    },
    "trusted": true,
    "ExecuteTime": {
     "end_time": "2024-05-20T14:51:45.186284700Z",
     "start_time": "2024-05-20T14:51:38.419558200Z"
    }
   },
   "execution_count": 1,
   "outputs": [
    {
     "name": "stdout",
     "output_type": "stream",
     "text": [
      "WARNING:tensorflow:From C:\\Users\\Macsi\\PycharmProjects\\NeuralNetworks\\.venv\\Lib\\site-packages\\tf_keras\\src\\losses.py:2976: The name tf.losses.sparse_softmax_cross_entropy is deprecated. Please use tf.compat.v1.losses.sparse_softmax_cross_entropy instead.\n"
     ]
    }
   ]
  },
  {
   "cell_type": "markdown",
   "source": [
    "# Loading and preprocessing"
   ],
   "metadata": {
    "collapsed": false
   }
  },
  {
   "cell_type": "code",
   "source": [
    "def train_df(tr_path):\n",
    "    classes = []\n",
    "    class_paths = []\n",
    "    files = os.listdir(tr_path)\n",
    "    for file in files:\n",
    "        label_dir = os.path.join(tr_path, file)\n",
    "        label = os.listdir(label_dir)\n",
    "        for image in label:\n",
    "            image_path = os.path.join(label_dir, image)\n",
    "            class_paths.append(image_path)\n",
    "            classes.append(file)\n",
    "    image_classes = pd.Series(classes, name='Class')\n",
    "    image_paths = pd.Series(class_paths, name='Class Path')\n",
    "    tr_df = pd.concat([image_paths, image_classes], axis=1)\n",
    "    return tr_df"
   ],
   "metadata": {
    "execution": {
     "iopub.status.busy": "2024-02-23T18:22:51.521198Z",
     "iopub.execute_input": "2024-02-23T18:22:51.521543Z",
     "iopub.status.idle": "2024-02-23T18:22:51.528402Z",
     "shell.execute_reply.started": "2024-02-23T18:22:51.521517Z",
     "shell.execute_reply": "2024-02-23T18:22:51.527393Z"
    },
    "trusted": true,
    "ExecuteTime": {
     "end_time": "2024-05-20T14:51:45.196830500Z",
     "start_time": "2024-05-20T14:51:45.190811400Z"
    }
   },
   "execution_count": 2,
   "outputs": []
  },
  {
   "cell_type": "code",
   "source": [
    "def test_df(ts_path):\n",
    "    classes = []\n",
    "    class_paths = []\n",
    "    files = os.listdir(ts_path)\n",
    "    for file in files:\n",
    "        label_dir = os.path.join(ts_path, file)\n",
    "        label = os.listdir(label_dir)\n",
    "        for image in label:\n",
    "            image_path = os.path.join(label_dir, image)\n",
    "            class_paths.append(image_path)\n",
    "            classes.append(file)\n",
    "    image_classes = pd.Series(classes, name='Class')\n",
    "    image_paths = pd.Series(class_paths, name='Class Path')\n",
    "    ts_df = pd.concat([image_paths, image_classes], axis=1)\n",
    "    return ts_df"
   ],
   "metadata": {
    "execution": {
     "iopub.status.busy": "2024-02-23T18:22:58.274512Z",
     "iopub.execute_input": "2024-02-23T18:22:58.275436Z",
     "iopub.status.idle": "2024-02-23T18:22:58.282504Z",
     "shell.execute_reply.started": "2024-02-23T18:22:58.275403Z",
     "shell.execute_reply": "2024-02-23T18:22:58.281476Z"
    },
    "trusted": true,
    "ExecuteTime": {
     "end_time": "2024-05-20T14:51:45.207464200Z",
     "start_time": "2024-05-20T14:51:45.196830500Z"
    }
   },
   "execution_count": 3,
   "outputs": []
  },
  {
   "cell_type": "code",
   "outputs": [
    {
     "data": {
      "text/plain": "                                 Class Path Class\n0    coffee_dataset/train\\Dark\\dark (1).png  Dark\n1   coffee_dataset/train\\Dark\\dark (10).png  Dark\n2  coffee_dataset/train\\Dark\\dark (100).png  Dark\n3  coffee_dataset/train\\Dark\\dark (101).png  Dark\n4  coffee_dataset/train\\Dark\\dark (102).png  Dark",
      "text/html": "<div>\n<style scoped>\n    .dataframe tbody tr th:only-of-type {\n        vertical-align: middle;\n    }\n\n    .dataframe tbody tr th {\n        vertical-align: top;\n    }\n\n    .dataframe thead th {\n        text-align: right;\n    }\n</style>\n<table border=\"1\" class=\"dataframe\">\n  <thead>\n    <tr style=\"text-align: right;\">\n      <th></th>\n      <th>Class Path</th>\n      <th>Class</th>\n    </tr>\n  </thead>\n  <tbody>\n    <tr>\n      <th>0</th>\n      <td>coffee_dataset/train\\Dark\\dark (1).png</td>\n      <td>Dark</td>\n    </tr>\n    <tr>\n      <th>1</th>\n      <td>coffee_dataset/train\\Dark\\dark (10).png</td>\n      <td>Dark</td>\n    </tr>\n    <tr>\n      <th>2</th>\n      <td>coffee_dataset/train\\Dark\\dark (100).png</td>\n      <td>Dark</td>\n    </tr>\n    <tr>\n      <th>3</th>\n      <td>coffee_dataset/train\\Dark\\dark (101).png</td>\n      <td>Dark</td>\n    </tr>\n    <tr>\n      <th>4</th>\n      <td>coffee_dataset/train\\Dark\\dark (102).png</td>\n      <td>Dark</td>\n    </tr>\n  </tbody>\n</table>\n</div>"
     },
     "execution_count": 4,
     "metadata": {},
     "output_type": "execute_result"
    }
   ],
   "source": [
    "tr_df = train_df('coffee_dataset/train')\n",
    "tr_df.head()"
   ],
   "metadata": {
    "collapsed": false,
    "ExecuteTime": {
     "end_time": "2024-05-20T14:51:45.233489300Z",
     "start_time": "2024-05-20T14:51:45.205464500Z"
    }
   },
   "execution_count": 4
  },
  {
   "cell_type": "code",
   "outputs": [
    {
     "data": {
      "text/plain": "                                Class Path Class\n0    coffee_dataset/test\\Dark\\dark (1).png  Dark\n1   coffee_dataset/test\\Dark\\dark (10).png  Dark\n2  coffee_dataset/test\\Dark\\dark (100).png  Dark\n3   coffee_dataset/test\\Dark\\dark (11).png  Dark\n4   coffee_dataset/test\\Dark\\dark (12).png  Dark",
      "text/html": "<div>\n<style scoped>\n    .dataframe tbody tr th:only-of-type {\n        vertical-align: middle;\n    }\n\n    .dataframe tbody tr th {\n        vertical-align: top;\n    }\n\n    .dataframe thead th {\n        text-align: right;\n    }\n</style>\n<table border=\"1\" class=\"dataframe\">\n  <thead>\n    <tr style=\"text-align: right;\">\n      <th></th>\n      <th>Class Path</th>\n      <th>Class</th>\n    </tr>\n  </thead>\n  <tbody>\n    <tr>\n      <th>0</th>\n      <td>coffee_dataset/test\\Dark\\dark (1).png</td>\n      <td>Dark</td>\n    </tr>\n    <tr>\n      <th>1</th>\n      <td>coffee_dataset/test\\Dark\\dark (10).png</td>\n      <td>Dark</td>\n    </tr>\n    <tr>\n      <th>2</th>\n      <td>coffee_dataset/test\\Dark\\dark (100).png</td>\n      <td>Dark</td>\n    </tr>\n    <tr>\n      <th>3</th>\n      <td>coffee_dataset/test\\Dark\\dark (11).png</td>\n      <td>Dark</td>\n    </tr>\n    <tr>\n      <th>4</th>\n      <td>coffee_dataset/test\\Dark\\dark (12).png</td>\n      <td>Dark</td>\n    </tr>\n  </tbody>\n</table>\n</div>"
     },
     "execution_count": 5,
     "metadata": {},
     "output_type": "execute_result"
    }
   ],
   "source": [
    "ts_df = test_df('coffee_dataset/test')\n",
    "ts_df.head()"
   ],
   "metadata": {
    "collapsed": false,
    "ExecuteTime": {
     "end_time": "2024-05-20T14:51:45.248986200Z",
     "start_time": "2024-05-20T14:51:45.223841800Z"
    }
   },
   "execution_count": 5
  },
  {
   "cell_type": "code",
   "source": [
    "plt.figure(figsize=(10,7))\n",
    "class_counts = tr_df['Class'].value_counts()\n",
    "\n",
    "# Plotting the count of images in each class using column bars\n",
    "class_counts.plot(kind='barh', color='skyblue')\n",
    "\n",
    "plt.xlabel('Count', fontsize=12)\n",
    "plt.ylabel('Class', fontsize=12)\n",
    "plt.title('Count of Images in Each Class', fontsize=16)\n",
    "\n",
    "# Adding labels to the bars\n",
    "for index, value in enumerate(class_counts):\n",
    "    plt.text(value, index, str(value))\n",
    "\n",
    "plt.show()"
   ],
   "metadata": {
    "execution": {
     "iopub.status.busy": "2024-02-23T18:24:11.161935Z",
     "iopub.execute_input": "2024-02-23T18:24:11.162532Z",
     "iopub.status.idle": "2024-02-23T18:24:11.390278Z",
     "shell.execute_reply.started": "2024-02-23T18:24:11.162499Z",
     "shell.execute_reply": "2024-02-23T18:24:11.38938Z"
    },
    "trusted": true,
    "ExecuteTime": {
     "end_time": "2024-05-20T14:51:45.435250200Z",
     "start_time": "2024-05-20T14:51:45.241985600Z"
    }
   },
   "execution_count": 6,
   "outputs": [
    {
     "data": {
      "text/plain": "<Figure size 1000x700 with 1 Axes>",
      "image/png": "[encoded data removed]"
     },
     "metadata": {},
     "output_type": "display_data"
    }
   ]
  },
  {
   "cell_type": "code",
   "source": [
    "plt.figure(figsize=(10,7))\n",
    "class_counts = ts_df['Class'].value_counts()\n",
    "\n",
    "# Plotting the count of images in each class using column bars\n",
    "class_counts.plot(kind='barh', color='skyblue')\n",
    "\n",
    "plt.xlabel('Count', fontsize=12)\n",
    "plt.ylabel('Class', fontsize=12)\n",
    "plt.title('Count of Images in Each Class', fontsize=16)\n",
    "\n",
    "# Adding labels to the bars\n",
    "for index, value in enumerate(class_counts):\n",
    "    plt.text(value, index, str(value))\n",
    "\n",
    "plt.show()"
   ],
   "metadata": {
    "execution": {
     "iopub.status.busy": "2024-02-23T18:24:17.620479Z",
     "iopub.execute_input": "2024-02-23T18:24:17.621375Z",
     "iopub.status.idle": "2024-02-23T18:24:17.819331Z",
     "shell.execute_reply.started": "2024-02-23T18:24:17.621342Z",
     "shell.execute_reply": "2024-02-23T18:24:17.818379Z"
    },
    "trusted": true,
    "ExecuteTime": {
     "end_time": "2024-05-20T14:51:46.066967200Z",
     "start_time": "2024-05-20T14:51:45.411626700Z"
    }
   },
   "execution_count": 7,
   "outputs": [
    {
     "data": {
      "text/plain": "<Figure size 1000x700 with 1 Axes>",
      "image/png": "[encoded data removed]"
     },
     "metadata": {},
     "output_type": "display_data"
    }
   ]
  },
  {
   "cell_type": "code",
   "source": [
    "# splitting to validation and train dataset\n",
    "valid_df, ts_df = train_test_split(ts_df, train_size=.5, random_state=20)\n",
    "ts_df.head()"
   ],
   "metadata": {
    "execution": {
     "iopub.status.busy": "2024-02-23T18:24:25.62822Z",
     "iopub.execute_input": "2024-02-23T18:24:25.628547Z",
     "iopub.status.idle": "2024-02-23T18:24:25.635087Z",
     "shell.execute_reply.started": "2024-02-23T18:24:25.628522Z",
     "shell.execute_reply": "2024-02-23T18:24:25.634124Z"
    },
    "trusted": true,
    "ExecuteTime": {
     "end_time": "2024-05-20T14:51:46.080976700Z",
     "start_time": "2024-05-20T14:51:46.061906700Z"
    }
   },
   "execution_count": 8,
   "outputs": [
    {
     "data": {
      "text/plain": "                                     Class Path   Class\n10       coffee_dataset/test\\Dark\\dark (18).png    Dark\n382  coffee_dataset/test\\Medium\\medium (83).png  Medium\n374  coffee_dataset/test\\Medium\\medium (76).png  Medium\n196    coffee_dataset/test\\Green\\green (96).png   Green\n47       coffee_dataset/test\\Dark\\dark (51).png    Dark",
      "text/html": "<div>\n<style scoped>\n    .dataframe tbody tr th:only-of-type {\n        vertical-align: middle;\n    }\n\n    .dataframe tbody tr th {\n        vertical-align: top;\n    }\n\n    .dataframe thead th {\n        text-align: right;\n    }\n</style>\n<table border=\"1\" class=\"dataframe\">\n  <thead>\n    <tr style=\"text-align: right;\">\n      <th></th>\n      <th>Class Path</th>\n      <th>Class</th>\n    </tr>\n  </thead>\n  <tbody>\n    <tr>\n      <th>10</th>\n      <td>coffee_dataset/test\\Dark\\dark (18).png</td>\n      <td>Dark</td>\n    </tr>\n    <tr>\n      <th>382</th>\n      <td>coffee_dataset/test\\Medium\\medium (83).png</td>\n      <td>Medium</td>\n    </tr>\n    <tr>\n      <th>374</th>\n      <td>coffee_dataset/test\\Medium\\medium (76).png</td>\n      <td>Medium</td>\n    </tr>\n    <tr>\n      <th>196</th>\n      <td>coffee_dataset/test\\Green\\green (96).png</td>\n      <td>Green</td>\n    </tr>\n    <tr>\n      <th>47</th>\n      <td>coffee_dataset/test\\Dark\\dark (51).png</td>\n      <td>Dark</td>\n    </tr>\n  </tbody>\n</table>\n</div>"
     },
     "execution_count": 8,
     "metadata": {},
     "output_type": "execute_result"
    }
   ]
  },
  {
   "cell_type": "code",
   "outputs": [],
   "source": [
    "batch_size = 16\n",
    "img_size = (224,224)\n",
    "\n",
    "train_gen = ImageDataGenerator(brightness_range=(.8, 1.2))\n",
    "\n",
    "gen = ImageDataGenerator()\n",
    "\n",
    "train_gen = train_gen.flow_from_dataframe(tr_df, x_col='Class Path',\n",
    "                                          y_col='Class', batch_size=batch_size,\n",
    "                                          target_size=img_size)\n",
    "\n",
    "validation_gen = gen.flow_from_dataframe(valid_df, x_col='Class Path',\n",
    "                                         y_col='Class', batch_size=batch_size,\n",
    "                                         target_size=img_size)\n",
    "\n",
    "test_gen = gen.flow_from_dataframe(ts_df, x_col='Class Path',\n",
    "                                   y_col='Class', batch_size=batch_size,\n",
    "                                   target_size=img_size, shuffle=False)"
   ],
   "metadata": {
    "collapsed": false,
    "ExecuteTime": {
     "start_time": "2024-05-20T14:53:39.359736200Z"
    }
   },
   "execution_count": null
  },
  {
   "cell_type": "code",
   "source": [
    "class_dict = train_gen.class_indices\n",
    "classes = list(class_dict.keys())\n",
    "images, labels = next(validation_gen)\n",
    "\n",
    "plt.figure(figsize=(20, 20))\n",
    "\n",
    "for i in range(16):\n",
    "    plt.subplot(4, 4, i+1)\n",
    "    image = images[i] / 255\n",
    "    plt.imshow(image)\n",
    "    index = np.argmax(labels[i])\n",
    "    class_name = classes[index]\n",
    "    plt.title(class_name, color='k', fontsize=20)\n",
    "    plt.grid(False)  # Remove grid\n",
    "    \n",
    "plt.show()"
   ],
   "metadata": {
    "execution": {
     "iopub.status.busy": "2024-02-23T18:25:05.093454Z",
     "iopub.execute_input": "2024-02-23T18:25:05.093825Z",
     "iopub.status.idle": "2024-02-23T18:25:09.351043Z",
     "shell.execute_reply.started": "2024-02-23T18:25:05.093794Z",
     "shell.execute_reply": "2024-02-23T18:25:09.350066Z"
    },
    "trusted": true,
    "ExecuteTime": {
     "end_time": "2024-05-20T14:51:47.031902600Z",
     "start_time": "2024-05-20T14:51:46.153636600Z"
    }
   },
   "execution_count": 10,
   "outputs": [
    {
     "ename": "UnidentifiedImageError",
     "evalue": "cannot identify image file <_io.BytesIO object at 0x000002589C4887C0>",
     "output_type": "error",
     "traceback": [
      "\u001B[1;31m---------------------------------------------------------------------------\u001B[0m",
      "\u001B[1;31mUnidentifiedImageError\u001B[0m                    Traceback (most recent call last)",
      "Cell \u001B[1;32mIn[10], line 3\u001B[0m\n\u001B[0;32m      1\u001B[0m class_dict \u001B[38;5;241m=\u001B[39m train_gen\u001B[38;5;241m.\u001B[39mclass_indices\n\u001B[0;32m      2\u001B[0m classes \u001B[38;5;241m=\u001B[39m \u001B[38;5;28mlist\u001B[39m(class_dict\u001B[38;5;241m.\u001B[39mkeys())\n\u001B[1;32m----> 3\u001B[0m images, labels \u001B[38;5;241m=\u001B[39m \u001B[38;5;28;43mnext\u001B[39;49m\u001B[43m(\u001B[49m\u001B[43mvalidation_gen\u001B[49m\u001B[43m)\u001B[49m\n\u001B[0;32m      5\u001B[0m plt\u001B[38;5;241m.\u001B[39mfigure(figsize\u001B[38;5;241m=\u001B[39m(\u001B[38;5;241m20\u001B[39m, \u001B[38;5;241m20\u001B[39m))\n\u001B[0;32m      7\u001B[0m \u001B[38;5;28;01mfor\u001B[39;00m i \u001B[38;5;129;01min\u001B[39;00m \u001B[38;5;28mrange\u001B[39m(\u001B[38;5;241m16\u001B[39m):\n",
      "File \u001B[1;32m~\\PycharmProjects\\NeuralNetworks\\.venv\\Lib\\site-packages\\tf_keras\\src\\preprocessing\\image.py:156\u001B[0m, in \u001B[0;36mIterator.__next__\u001B[1;34m(self, *args, **kwargs)\u001B[0m\n\u001B[0;32m    155\u001B[0m \u001B[38;5;28;01mdef\u001B[39;00m \u001B[38;5;21m__next__\u001B[39m(\u001B[38;5;28mself\u001B[39m, \u001B[38;5;241m*\u001B[39margs, \u001B[38;5;241m*\u001B[39m\u001B[38;5;241m*\u001B[39mkwargs):\n\u001B[1;32m--> 156\u001B[0m     \u001B[38;5;28;01mreturn\u001B[39;00m \u001B[38;5;28;43mself\u001B[39;49m\u001B[38;5;241;43m.\u001B[39;49m\u001B[43mnext\u001B[49m\u001B[43m(\u001B[49m\u001B[38;5;241;43m*\u001B[39;49m\u001B[43margs\u001B[49m\u001B[43m,\u001B[49m\u001B[43m \u001B[49m\u001B[38;5;241;43m*\u001B[39;49m\u001B[38;5;241;43m*\u001B[39;49m\u001B[43mkwargs\u001B[49m\u001B[43m)\u001B[49m\n",
      "File \u001B[1;32m~\\PycharmProjects\\NeuralNetworks\\.venv\\Lib\\site-packages\\tf_keras\\src\\preprocessing\\image.py:168\u001B[0m, in \u001B[0;36mIterator.next\u001B[1;34m(self)\u001B[0m\n\u001B[0;32m    165\u001B[0m     index_array \u001B[38;5;241m=\u001B[39m \u001B[38;5;28mnext\u001B[39m(\u001B[38;5;28mself\u001B[39m\u001B[38;5;241m.\u001B[39mindex_generator)\n\u001B[0;32m    166\u001B[0m \u001B[38;5;66;03m# The transformation of images is not under thread lock\u001B[39;00m\n\u001B[0;32m    167\u001B[0m \u001B[38;5;66;03m# so it can be done in parallel\u001B[39;00m\n\u001B[1;32m--> 168\u001B[0m \u001B[38;5;28;01mreturn\u001B[39;00m \u001B[38;5;28;43mself\u001B[39;49m\u001B[38;5;241;43m.\u001B[39;49m\u001B[43m_get_batches_of_transformed_samples\u001B[49m\u001B[43m(\u001B[49m\u001B[43mindex_array\u001B[49m\u001B[43m)\u001B[49m\n",
      "File \u001B[1;32m~\\PycharmProjects\\NeuralNetworks\\.venv\\Lib\\site-packages\\tf_keras\\src\\preprocessing\\image.py:370\u001B[0m, in \u001B[0;36mBatchFromFilesMixin._get_batches_of_transformed_samples\u001B[1;34m(self, index_array)\u001B[0m\n\u001B[0;32m    368\u001B[0m filepaths \u001B[38;5;241m=\u001B[39m \u001B[38;5;28mself\u001B[39m\u001B[38;5;241m.\u001B[39mfilepaths\n\u001B[0;32m    369\u001B[0m \u001B[38;5;28;01mfor\u001B[39;00m i, j \u001B[38;5;129;01min\u001B[39;00m \u001B[38;5;28menumerate\u001B[39m(index_array):\n\u001B[1;32m--> 370\u001B[0m     img \u001B[38;5;241m=\u001B[39m \u001B[43mimage_utils\u001B[49m\u001B[38;5;241;43m.\u001B[39;49m\u001B[43mload_img\u001B[49m\u001B[43m(\u001B[49m\n\u001B[0;32m    371\u001B[0m \u001B[43m        \u001B[49m\u001B[43mfilepaths\u001B[49m\u001B[43m[\u001B[49m\u001B[43mj\u001B[49m\u001B[43m]\u001B[49m\u001B[43m,\u001B[49m\n\u001B[0;32m    372\u001B[0m \u001B[43m        \u001B[49m\u001B[43mcolor_mode\u001B[49m\u001B[38;5;241;43m=\u001B[39;49m\u001B[38;5;28;43mself\u001B[39;49m\u001B[38;5;241;43m.\u001B[39;49m\u001B[43mcolor_mode\u001B[49m\u001B[43m,\u001B[49m\n\u001B[0;32m    373\u001B[0m \u001B[43m        \u001B[49m\u001B[43mtarget_size\u001B[49m\u001B[38;5;241;43m=\u001B[39;49m\u001B[38;5;28;43mself\u001B[39;49m\u001B[38;5;241;43m.\u001B[39;49m\u001B[43mtarget_size\u001B[49m\u001B[43m,\u001B[49m\n\u001B[0;32m    374\u001B[0m \u001B[43m        \u001B[49m\u001B[43minterpolation\u001B[49m\u001B[38;5;241;43m=\u001B[39;49m\u001B[38;5;28;43mself\u001B[39;49m\u001B[38;5;241;43m.\u001B[39;49m\u001B[43minterpolation\u001B[49m\u001B[43m,\u001B[49m\n\u001B[0;32m    375\u001B[0m \u001B[43m        \u001B[49m\u001B[43mkeep_aspect_ratio\u001B[49m\u001B[38;5;241;43m=\u001B[39;49m\u001B[38;5;28;43mself\u001B[39;49m\u001B[38;5;241;43m.\u001B[39;49m\u001B[43mkeep_aspect_ratio\u001B[49m\u001B[43m,\u001B[49m\n\u001B[0;32m    376\u001B[0m \u001B[43m    \u001B[49m\u001B[43m)\u001B[49m\n\u001B[0;32m    377\u001B[0m     x \u001B[38;5;241m=\u001B[39m image_utils\u001B[38;5;241m.\u001B[39mimg_to_array(img, data_format\u001B[38;5;241m=\u001B[39m\u001B[38;5;28mself\u001B[39m\u001B[38;5;241m.\u001B[39mdata_format)\n\u001B[0;32m    378\u001B[0m     \u001B[38;5;66;03m# Pillow images should be closed after `load_img`,\u001B[39;00m\n\u001B[0;32m    379\u001B[0m     \u001B[38;5;66;03m# but not PIL images.\u001B[39;00m\n",
      "File \u001B[1;32m~\\PycharmProjects\\NeuralNetworks\\.venv\\Lib\\site-packages\\tf_keras\\src\\utils\\image_utils.py:423\u001B[0m, in \u001B[0;36mload_img\u001B[1;34m(path, grayscale, color_mode, target_size, interpolation, keep_aspect_ratio)\u001B[0m\n\u001B[0;32m    421\u001B[0m         path \u001B[38;5;241m=\u001B[39m \u001B[38;5;28mstr\u001B[39m(path\u001B[38;5;241m.\u001B[39mresolve())\n\u001B[0;32m    422\u001B[0m     \u001B[38;5;28;01mwith\u001B[39;00m \u001B[38;5;28mopen\u001B[39m(path, \u001B[38;5;124m\"\u001B[39m\u001B[38;5;124mrb\u001B[39m\u001B[38;5;124m\"\u001B[39m) \u001B[38;5;28;01mas\u001B[39;00m f:\n\u001B[1;32m--> 423\u001B[0m         img \u001B[38;5;241m=\u001B[39m \u001B[43mpil_image\u001B[49m\u001B[38;5;241;43m.\u001B[39;49m\u001B[43mopen\u001B[49m\u001B[43m(\u001B[49m\u001B[43mio\u001B[49m\u001B[38;5;241;43m.\u001B[39;49m\u001B[43mBytesIO\u001B[49m\u001B[43m(\u001B[49m\u001B[43mf\u001B[49m\u001B[38;5;241;43m.\u001B[39;49m\u001B[43mread\u001B[49m\u001B[43m(\u001B[49m\u001B[43m)\u001B[49m\u001B[43m)\u001B[49m\u001B[43m)\u001B[49m\n\u001B[0;32m    424\u001B[0m \u001B[38;5;28;01melse\u001B[39;00m:\n\u001B[0;32m    425\u001B[0m     \u001B[38;5;28;01mraise\u001B[39;00m \u001B[38;5;167;01mTypeError\u001B[39;00m(\n\u001B[0;32m    426\u001B[0m         \u001B[38;5;124mf\u001B[39m\u001B[38;5;124m\"\u001B[39m\u001B[38;5;124mpath should be path-like or io.BytesIO, not \u001B[39m\u001B[38;5;132;01m{\u001B[39;00m\u001B[38;5;28mtype\u001B[39m(path)\u001B[38;5;132;01m}\u001B[39;00m\u001B[38;5;124m\"\u001B[39m\n\u001B[0;32m    427\u001B[0m     )\n",
      "File \u001B[1;32m~\\PycharmProjects\\NeuralNetworks\\.venv\\Lib\\site-packages\\PIL\\Image.py:3309\u001B[0m, in \u001B[0;36mopen\u001B[1;34m(fp, mode, formats)\u001B[0m\n\u001B[0;32m   3307\u001B[0m     warnings\u001B[38;5;241m.\u001B[39mwarn(message)\n\u001B[0;32m   3308\u001B[0m msg \u001B[38;5;241m=\u001B[39m \u001B[38;5;124m\"\u001B[39m\u001B[38;5;124mcannot identify image file \u001B[39m\u001B[38;5;132;01m%r\u001B[39;00m\u001B[38;5;124m\"\u001B[39m \u001B[38;5;241m%\u001B[39m (filename \u001B[38;5;28;01mif\u001B[39;00m filename \u001B[38;5;28;01melse\u001B[39;00m fp)\n\u001B[1;32m-> 3309\u001B[0m \u001B[38;5;28;01mraise\u001B[39;00m UnidentifiedImageError(msg)\n",
      "\u001B[1;31mUnidentifiedImageError\u001B[0m: cannot identify image file <_io.BytesIO object at 0x000002589C4887C0>"
     ]
    }
   ]
  },
  {
   "cell_type": "markdown",
   "source": [
    "# Training"
   ],
   "metadata": {
    "collapsed": false
   }
  },
  {
   "cell_type": "code",
   "source": [
    "img_shape = (224, 224, 3)\n",
    "num_classes = len(classes)\n",
    "\n",
    "# Define the base model\n",
    "base_model = tf.keras.applications.Xception(include_top=False, weights=\"imagenet\",\n",
    "                                             input_shape=img_shape, pooling='max')\n",
    "\n",
    "# Build your model\n",
    "model = Sequential([\n",
    "    base_model,\n",
    "    Flatten(),\n",
    "    Dropout(rate=0.3),\n",
    "    Dense(128, activation='relu'),\n",
    "    Dropout(rate=0.25),\n",
    "    Dense(num_classes, activation='softmax')\n",
    "])\n",
    "\n",
    "# Compile the model\n",
    "model.compile(Adamax(learning_rate=0.001),\n",
    "              loss='categorical_crossentropy',\n",
    "              metrics=['accuracy'])\n",
    "\n",
    "# Display model summary\n",
    "model.build((None, *img_shape))\n",
    "model.summary()"
   ],
   "metadata": {
    "execution": {
     "iopub.status.busy": "2024-02-23T18:27:14.629663Z",
     "iopub.execute_input": "2024-02-23T18:27:14.62999Z",
     "iopub.status.idle": "2024-02-23T18:27:16.475378Z",
     "shell.execute_reply.started": "2024-02-23T18:27:14.629966Z",
     "shell.execute_reply": "2024-02-23T18:27:16.4745Z"
    },
    "trusted": true,
    "ExecuteTime": {
     "start_time": "2024-05-20T14:51:47.029979800Z"
    }
   },
   "execution_count": null,
   "outputs": []
  },
  {
   "cell_type": "code",
   "outputs": [],
   "source": [
    "tf.keras.utils.plot_model(model, show_shapes=True)"
   ],
   "metadata": {
    "collapsed": false,
    "ExecuteTime": {
     "end_time": "2024-05-20T14:51:47.058904700Z",
     "start_time": "2024-05-20T14:51:47.033903Z"
    }
   },
   "execution_count": null
  },
  {
   "cell_type": "code",
   "source": [
    "# Training\n",
    "es = EarlyStopping(monitor='val_loss', mode='min',patience=3)\n",
    "hist = model.fit(train_gen,\n",
    "                 epochs=3,\n",
    "                 validation_data=validation_gen,\n",
    "                 shuffle= False,\n",
    "                 callbacks=es)"
   ],
   "metadata": {
    "execution": {
     "iopub.status.busy": "2024-02-23T18:27:41.885594Z",
     "iopub.execute_input": "2024-02-23T18:27:41.885953Z",
     "iopub.status.idle": "2024-02-23T18:29:13.959883Z",
     "shell.execute_reply.started": "2024-02-23T18:27:41.885928Z",
     "shell.execute_reply": "2024-02-23T18:29:13.959087Z"
    },
    "trusted": true,
    "ExecuteTime": {
     "start_time": "2024-05-20T14:51:47.042917400Z"
    }
   },
   "execution_count": null,
   "outputs": []
  },
  {
   "cell_type": "markdown",
   "source": [
    "# Testing"
   ],
   "metadata": {
    "collapsed": false
   }
  },
  {
   "cell_type": "code",
   "source": [
    "model.evaluate(test_gen, verbose=1)"
   ],
   "metadata": {
    "execution": {
     "iopub.status.busy": "2024-02-23T18:29:20.717995Z",
     "iopub.execute_input": "2024-02-23T18:29:20.718832Z",
     "iopub.status.idle": "2024-02-23T18:29:23.0945Z",
     "shell.execute_reply.started": "2024-02-23T18:29:20.718799Z",
     "shell.execute_reply": "2024-02-23T18:29:23.093543Z"
    },
    "trusted": true,
    "ExecuteTime": {
     "start_time": "2024-05-20T14:51:47.045922Z"
    }
   },
   "execution_count": null,
   "outputs": []
  },
  {
   "cell_type": "code",
   "outputs": [],
   "source": [
    "# Save model to file\n",
    "model.save(\"coffee_Model.h5\")"
   ],
   "metadata": {
    "collapsed": false,
    "ExecuteTime": {
     "start_time": "2024-05-20T14:51:47.049903500Z"
    }
   },
   "execution_count": null
  },
  {
   "cell_type": "markdown",
   "source": [
    "# Metrics"
   ],
   "metadata": {
    "collapsed": false
   }
  },
  {
   "cell_type": "code",
   "source": [
    "plt.plot(hist.history['accuracy'])\n",
    "plt.plot(hist.history['val_accuracy'])\n",
    "plt.title('model accuracy')\n",
    "plt.ylabel('accuracy')\n",
    "plt.xlabel('epoch')\n",
    "plt.legend(['train', 'val'], loc='upper left')\n",
    "plt.show()"
   ],
   "metadata": {
    "execution": {
     "iopub.status.busy": "2024-02-23T18:29:55.496007Z",
     "iopub.execute_input": "2024-02-23T18:29:55.498984Z",
     "iopub.status.idle": "2024-02-23T18:29:55.732941Z",
     "shell.execute_reply.started": "2024-02-23T18:29:55.49894Z",
     "shell.execute_reply": "2024-02-23T18:29:55.731907Z"
    },
    "trusted": true,
    "ExecuteTime": {
     "start_time": "2024-05-20T14:51:47.053903600Z"
    }
   },
   "execution_count": null,
   "outputs": []
  },
  {
   "cell_type": "code",
   "source": [
    "plt.plot(hist.history['loss'])\n",
    "plt.plot(hist.history['val_loss'])\n",
    "plt.title('model loss')\n",
    "plt.ylabel('loss')\n",
    "plt.xlabel('epoch')\n",
    "plt.legend(['train', 'val'], loc='upper left')\n",
    "plt.show()"
   ],
   "metadata": {
    "execution": {
     "iopub.status.busy": "2024-02-23T18:30:10.513772Z",
     "iopub.execute_input": "2024-02-23T18:30:10.514733Z",
     "iopub.status.idle": "2024-02-23T18:30:10.733824Z",
     "shell.execute_reply.started": "2024-02-23T18:30:10.514698Z",
     "shell.execute_reply": "2024-02-23T18:30:10.732919Z"
    },
    "trusted": true,
    "ExecuteTime": {
     "end_time": "2024-05-20T14:51:47.125511800Z",
     "start_time": "2024-05-20T14:51:47.058904700Z"
    }
   },
   "execution_count": null,
   "outputs": []
  },
  {
   "cell_type": "code",
   "source": [
    "pred = model.predict(test_gen)\n",
    "pred = np.argmax(pred, axis=1)\n",
    "\n",
    "labels = train_gen.class_indices\n",
    "labels = dict((v,k) for k,v in labels.items())\n",
    "pred2 = [labels[k] for k in pred]"
   ],
   "metadata": {
    "execution": {
     "iopub.status.busy": "2024-02-23T18:30:22.045314Z",
     "iopub.execute_input": "2024-02-23T18:30:22.045703Z",
     "iopub.status.idle": "2024-02-23T18:30:23.724667Z",
     "shell.execute_reply.started": "2024-02-23T18:30:22.045671Z",
     "shell.execute_reply": "2024-02-23T18:30:23.723614Z"
    },
    "trusted": true,
    "ExecuteTime": {
     "start_time": "2024-05-20T14:51:47.062918400Z"
    }
   },
   "execution_count": null,
   "outputs": []
  },
  {
   "cell_type": "code",
   "source": [
    "y_test = ts_df['Class']\n",
    "print(classification_report(y_test, pred2))\n",
    "print(\"Accuracy of the Model:\",\"{:.1f}%\".format(accuracy_score(y_test, pred2)*100))"
   ],
   "metadata": {
    "execution": {
     "iopub.status.busy": "2024-02-23T18:30:33.31808Z",
     "iopub.execute_input": "2024-02-23T18:30:33.318441Z",
     "iopub.status.idle": "2024-02-23T18:30:33.33914Z",
     "shell.execute_reply.started": "2024-02-23T18:30:33.318411Z",
     "shell.execute_reply": "2024-02-23T18:30:33.338221Z"
    },
    "trusted": true,
    "ExecuteTime": {
     "start_time": "2024-05-20T14:51:47.066912300Z"
    }
   },
   "execution_count": null,
   "outputs": []
  }
 ]
}
